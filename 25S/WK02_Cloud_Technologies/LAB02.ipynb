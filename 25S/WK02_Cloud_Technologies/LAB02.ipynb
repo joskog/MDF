{
 "cells": [
  {
   "cell_type": "code",
   "execution_count": 3,
   "id": "b268de08-e5f1-4f20-a657-6c5053d29e69",
   "metadata": {},
   "outputs": [],
   "source": [
    "#!pip install boto3\n",
    "\n",
    "# Step 1: Initialize the S3 client\n",
    "import boto3\n",
    "import json\n",
    "import os\n",
    "from botocore.exceptions import NoCredentialsError, PartialCredentialsError\n",
    "\n",
    "s3 = boto3.client('s3')\n"
   ]
  },
  {
   "cell_type": "code",
   "execution_count": 4,
   "id": "826ee194-3f3a-4b24-b1b0-297dd312b2fc",
   "metadata": {},
   "outputs": [
    {
     "name": "stdout",
     "output_type": "stream",
     "text": [
      "Currently authenticated AWS Account ID: 684115525159\n"
     ]
    }
   ],
   "source": [
    "# Step 2: Retrieve AWS Account ID to verify credentials\n",
    "sts_client = boto3.client('sts')\n",
    "account_id = sts_client.get_caller_identity()[\"Account\"]\n",
    "print(f\"Currently authenticated AWS Account ID: {account_id}\")\n"
   ]
  },
  {
   "cell_type": "code",
   "execution_count": 5,
   "id": "4883c5dc-1dbc-4e42-b5b9-c74c065285c9",
   "metadata": {},
   "outputs": [],
   "source": [
    "# Step 3: Define upload parameters\n",
    "bucket_name = 'your-bucket-name'  # Replace with your S3 bucket name - Use the bucket name, not the ARN. Why don't we use the ARN?\n",
    "file_name = 'index.html'  # The name of the HTML file to upload\n",
    "file_path = '/path/to/index.html'  # The local path to your HTML file\n"
   ]
  },
  {
   "cell_type": "code",
   "execution_count": 6,
   "id": "6226df13-c5f4-4ab5-bd0b-3753b5716bf3",
   "metadata": {},
   "outputs": [],
   "source": [
    "# Step 4: Validate the file path\n",
    "if not os.path.isfile(file_path):\n",
    "    raise FileNotFoundError(f\"The file at {file_path} does not exist.\")"
   ]
  },
  {
   "cell_type": "code",
   "execution_count": 11,
   "id": "a7e1e5e4-302e-4864-af81-e56f704ee733",
   "metadata": {},
   "outputs": [
    {
     "name": "stdout",
     "output_type": "stream",
     "text": [
      "File uploaded successfully!\n"
     ]
    }
   ],
   "source": [
    "# Step 5: Upload the file to the S3 bucket\n",
    "try:\n",
    "    response = s3.upload_file(\n",
    "        Filename=file_path, \n",
    "        Bucket=bucket_name, \n",
    "        Key=file_name,\n",
    "        ExtraArgs={\n",
    "            'ContentType': 'text/html',  # Ensure the correct MIME type\n",
    "        }\n",
    "    )\n",
    "    print(\"File uploaded successfully!\")\n",
    "except NoCredentialsError:\n",
    "    print(\"Error: AWS credentials not found.\")\n",
    "except PartialCredentialsError:\n",
    "    print(\"Error: Incomplete AWS credentials configuration.\")\n",
    "except Exception as e:\n",
    "    print(f\"An unexpected error occurred: {e}\")"
   ]
  },
  {
   "cell_type": "code",
   "execution_count": 8,
   "id": "392ad128-b4a0-465c-9b53-fe2aff30f307",
   "metadata": {},
   "outputs": [
    {
     "name": "stdout",
     "output_type": "stream",
     "text": [
      "Your file is available at: https://ppol5206.s3.amazonaws.com/index.html\n"
     ]
    }
   ],
   "source": [
    "# Step 6: Retrieve the public URL of the uploaded file\n",
    "object_url = f\"https://{bucket_name}.s3.amazonaws.com/{file_name}\"\n",
    "print(f\"Your file is available at: {object_url}\")"
   ]
  },
  {
   "cell_type": "code",
   "execution_count": 7,
   "id": "b7dc6cc1-7f80-4d2e-983a-5f02d3afa00c",
   "metadata": {},
   "outputs": [
    {
     "name": "stdout",
     "output_type": "stream",
     "text": [
      "Bucket policy updated to allow public read access.\n"
     ]
    }
   ],
   "source": [
    "# Step 7: Update the bucket policy to allow public access\n",
    "bucket_policy = {\n",
    "    \"Version\": \"2012-10-17\",\n",
    "    \"Statement\": [\n",
    "        {\n",
    "            \"Effect\": \"Allow\",\n",
    "            \"Principal\": \"*\",\n",
    "            \"Action\": \"s3:GetObject\",\n",
    "            \"Resource\": f\"arn:aws:s3:::{bucket_name}/*\"\n",
    "\n",
    "        }\n",
    "    ]\n",
    "}\n",
    "try:\n",
    "    s3.put_bucket_policy(\n",
    "        Bucket=bucket_name,\n",
    "        Policy=json.dumps(bucket_policy)\n",
    "    )\n",
    "    print(\"Bucket policy updated to allow public read access.\")\n",
    "except Exception as e:\n",
    "    print(f\"Error updating bucket policy: {e}\")"
   ]
  },
  {
   "cell_type": "code",
   "execution_count": null,
   "id": "49c1467e-9b38-4d4b-8269-374c9274c0bb",
   "metadata": {},
   "outputs": [],
   "source": []
  }
 ],
 "metadata": {
  "kernelspec": {
   "display_name": "Python 3 (ipykernel)",
   "language": "python",
   "name": "python3"
  },
  "language_info": {
   "codemirror_mode": {
    "name": "ipython",
    "version": 3
   },
   "file_extension": ".py",
   "mimetype": "text/x-python",
   "name": "python",
   "nbconvert_exporter": "python",
   "pygments_lexer": "ipython3",
   "version": "3.11.7"
  }
 },
 "nbformat": 4,
 "nbformat_minor": 5
}
